{
 "cells": [
  {
   "cell_type": "code",
   "execution_count": 1,
   "id": "e0b59c0b-c1f5-40fc-bee3-a2597a9b2e82",
   "metadata": {},
   "outputs": [],
   "source": [
    "import numpy as np\n",
    "import random"
   ]
  },
  {
   "cell_type": "code",
   "execution_count": 5,
   "id": "2d80e908-fa3c-4964-b43e-a815df0c4615",
   "metadata": {},
   "outputs": [
    {
     "name": "stdout",
     "output_type": "stream",
     "text": [
      "[70 33 40 19 24 19 87 16 85 38  6 38 63 17 72  6 97 89 77 81 39 56 66  9\n",
      " 15 47 41 68 46 33 26 27 10 92 80 17 57 75 39 27 39 19 55 77 32 70 94 98\n",
      " 31 67  8 69 67 79 40  6 94 20 14 30 91 22 17 20 51 60 80 95 35 89 26 16\n",
      " 11  4 60 94 20 62 31 74 74 77 65 66 83  6 10 12 35 89 57 42  5 74 36 47\n",
      " 65 93 51  4 94 54 73 21 26  7 34 61  3 47 27 45 20 97 52  6 22  7 42 81\n",
      " 74 40 20 59 32 96 71 86 35 47 25 61 94 32 90 31  6 63 53  7 72 94 94 19\n",
      " 51 31 11 25 91 26 85 10 87 32 38 41 51 93 33 70 84  8 19 91 52 11 50 14\n",
      " 10 30 93 99 39 60 77 59 43 24 94  2 43 93 67 61 66 54 35 40 89  2 90 54\n",
      " 50 38 48 15  4 79 19 76 90 42 43 58 44 24 23 12 75 35 70 46 32 32 52 84\n",
      " 56 45  7 52 72 66 58 84 58 82 17 60 44 69 12 12 87 53 65 44 20 75 51 55\n",
      " 13 24 23 51 25  8 60  5 53 28 73 80 73 25 22 27 41 41 28 43 27 32 67 37\n",
      " 29 94 69 96 58 45 78 23 67 25 21 25 59 44 65 50 51 21 47 81 16 43 48 89\n",
      " 40  7  1 42 44 14 71 58 83 50 78  5 70 89 38 46 73 23 31 75 39 22 96 41\n",
      "  9 81 51 67 43 66 22 34 87 38 67 92 49 15 71 13 74 47 81 40  6 97 83 12\n",
      "  9 60 20 21 98 14 85 88  5 15 50 93 21 45 76 87 44 69  4 53 83 70 87 62\n",
      " 63 27 98 39 69  1 18 45 77 76 96 69 16 10 23 61 38 52 89 61 17 10 63 73\n",
      "  5 74 54 60 44 90 28 95  1 85 38 73 42 35 23 45  5 63 11 10 20 67 79 78\n",
      " 34 83 76 28 63 93  3  3 91 80 85 13 76 94  5 19 88 47 26 13 75 74 13 43\n",
      " 31  9 74 84 21 45  8 17 63 11  9 24 93  8 27 81 35 33]\n",
      "x.mean() \n",
      "48.20444444444445\n",
      "\n",
      "np.median(x) \n",
      "46.0\n",
      "\n",
      "x.std() \n",
      "28.167009509199907\n"
     ]
    }
   ],
   "source": [
    "# 450 elemanlı 1-100 arsında rasgele degrlerden olusan tek boyutlu bir ndarray oluşturalım:\n",
    "x=np.random.randint(1, 100, size=(450,))\n",
    "print(x)\n",
    "# aritmetik ortalama= mean\n",
    "print(\"x.mean() \")\n",
    "print(x.mean())\n",
    "print()\n",
    "# medyan= median\n",
    "print(\"np.median(x) \")\n",
    "print(np.median(x))\n",
    "print()\n",
    "# standart sapma= std()\n",
    "print(\"x.std() \")\n",
    "print(x.std())"
   ]
  },
  {
   "cell_type": "code",
   "execution_count": 6,
   "id": "b79ca21d-a71e-41d9-a551-e2e6b5f3c004",
   "metadata": {},
   "outputs": [
    {
     "name": "stdout",
     "output_type": "stream",
     "text": [
      "y\n",
      "[[29 42 36]\n",
      " [37 59  1]\n",
      " [84 92 16]\n",
      " [88 25 51]]\n",
      "\n",
      "y.mean(axis=0) \n",
      "[59.5 54.5 26. ]\n",
      "\n",
      "np.median(y, axis=1) \n",
      "[36. 37. 84. 51.]\n",
      "\n",
      "y.std(axis=0) \n",
      "[26.68801229 24.76388499 19.03943276]\n"
     ]
    }
   ],
   "source": [
    "# iki boyultu 1-100 arasında rasgele degerlerden oluşan 4X3 lük bir matris oluşturalım:\n",
    "y=np.random.randint(1, 100, size=(4,3))\n",
    "print(\"y\")\n",
    "print(y)\n",
    "print()\n",
    "print(\"y.mean(axis=0) \")\n",
    "print(y.mean(axis=0)) # y matrisinin sütunlarındaki dgerlerin aritmetik ortalaması\n",
    "print()\n",
    "print(\"np.median(y, axis=1) \")\n",
    "print(np.median(y, axis=1)) # y matrisinin satırlarındaki degerlerin medyanı \n",
    "print()\n",
    "print(\"y.std(axis=0) \")\n",
    "print(y.std(axis=0)) # y matrisinin sütunlarındaki degerlerin standart sapması \n"
   ]
  },
  {
   "cell_type": "code",
   "execution_count": null,
   "id": "deeef110-93ac-40cc-9872-23196400777c",
   "metadata": {},
   "outputs": [],
   "source": []
  },
  {
   "cell_type": "code",
   "execution_count": null,
   "id": "28bf8793-59a9-4a91-93f5-afe8db92a6c4",
   "metadata": {},
   "outputs": [],
   "source": []
  },
  {
   "cell_type": "code",
   "execution_count": null,
   "id": "e25a371b-ccec-4037-86c4-28414947abb6",
   "metadata": {},
   "outputs": [],
   "source": []
  },
  {
   "cell_type": "code",
   "execution_count": null,
   "id": "8db11a0f-0b45-48ef-9187-c7683df51307",
   "metadata": {},
   "outputs": [],
   "source": []
  }
 ],
 "metadata": {
  "kernelspec": {
   "display_name": "Python 3 (ipykernel)",
   "language": "python",
   "name": "python3"
  },
  "language_info": {
   "codemirror_mode": {
    "name": "ipython",
    "version": 3
   },
   "file_extension": ".py",
   "mimetype": "text/x-python",
   "name": "python",
   "nbconvert_exporter": "python",
   "pygments_lexer": "ipython3",
   "version": "3.11.0"
  }
 },
 "nbformat": 4,
 "nbformat_minor": 5
}
