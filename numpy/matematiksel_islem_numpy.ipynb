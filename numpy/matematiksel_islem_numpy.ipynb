{
 "cells": [
  {
   "cell_type": "code",
   "execution_count": 2,
   "id": "5440c057-2ee2-45d1-b7a3-eddfed7647ed",
   "metadata": {},
   "outputs": [],
   "source": [
    "import numpy as np\n",
    "import random"
   ]
  },
  {
   "cell_type": "code",
   "execution_count": 6,
   "id": "a3073098-5a6e-4c98-806a-76975cd5cf25",
   "metadata": {},
   "outputs": [
    {
     "name": "stdout",
     "output_type": "stream",
     "text": [
      "[9 6 6 4 5]\n",
      "[4 6 2 6 3]\n",
      "\n",
      "[13 12  8 10  8]\n",
      "[13 12  8 10  8]\n",
      "\n",
      "[ 5  0  4 -2  2]\n",
      "[ 5  0  4 -2  2]\n",
      "\n",
      "[36 36 12 24 15]\n",
      "[36 36 12 24 15]\n",
      "\n",
      "[2.25       1.         3.         0.66666667 1.66666667]\n",
      "[2.25       1.         3.         0.66666667 1.66666667]\n"
     ]
    }
   ],
   "source": [
    "x=np.random.randint(1, 10, size=(5,))\n",
    "print(x)\n",
    "y=np.random.randint(1, 10, size=(5,))\n",
    "print(y)\n",
    "print()\n",
    "# toplama için add\n",
    "print(x+y) # + oeratörü add ile ayno işi yapar \n",
    "print(np.add(x,y)) # add ile iki ndarray degerleri toplanır\n",
    "print()\n",
    "# çıkarma için subtract\n",
    "print(x-y)\n",
    "print(np.subtract(x,y))\n",
    "print()\n",
    "# çarmpa için multiply\n",
    "print(x*y)\n",
    "print(np.multiply(x,y))\n",
    "print()\n",
    "# bolme için divide \n",
    "print(x/y)\n",
    "print(np.divide(x,y))\n"
   ]
  },
  {
   "cell_type": "code",
   "execution_count": 7,
   "id": "317afdea-55a3-40b6-a2d2-5080f8c581c4",
   "metadata": {},
   "outputs": [
    {
     "name": "stdout",
     "output_type": "stream",
     "text": [
      "[4 5 6 1 2]\n",
      "[7 8 9 4 5]\n",
      "[ 1  2  3 -2 -1]\n",
      "[12 15 18  3  6]\n",
      "[1.33333333 1.66666667 2.         0.33333333 0.66666667]\n"
     ]
    }
   ],
   "source": [
    "x=np.random.randint(1, 10, size=(5,))\n",
    "print(x)\n",
    "print(x+ 3)\n",
    "print(x - 3)\n",
    "print(x * 3)\n",
    "print(x / 3)"
   ]
  },
  {
   "cell_type": "code",
   "execution_count": 13,
   "id": "17d3a14a-e1f8-4fd9-8a36-bc234621e3a0",
   "metadata": {},
   "outputs": [
    {
     "name": "stdout",
     "output_type": "stream",
     "text": [
      "[6 1 8 5 4]\n",
      "[6 5 6 9 6]\n",
      "arraylerin karşılıklı elemanları eşit mi\n",
      "[ True False False False False]\n",
      "array ler eşitmi : \n",
      "False\n"
     ]
    }
   ],
   "source": [
    "x=np.random.randint(1, 10, size=(5,))\n",
    "y=np.random.randint(1, 10, size=(5,))\n",
    "print(x)\n",
    "print(y)\n",
    "print(\"arraylerin karşılıklı elemanları eşit mi\")\n",
    "print(x==y)\n",
    "print(\"array ler eşitmi : \")\n",
    "print(np.array_equal(x,y))"
   ]
  },
  {
   "cell_type": "code",
   "execution_count": 14,
   "id": "e4bf24d9-0e13-4b52-9b4d-b5a9954d4bf1",
   "metadata": {},
   "outputs": [
    {
     "name": "stdout",
     "output_type": "stream",
     "text": [
      "[1 9 9 7 9]\n",
      "[1.         3.         3.         2.64575131 3.        ]\n",
      "[  1 729 729 343 729]\n",
      "[2.71828183e+00 8.10308393e+03 8.10308393e+03 1.09663316e+03\n",
      " 8.10308393e+03]\n"
     ]
    }
   ],
   "source": [
    "x=np.random.randint(1, 10, size=(5,))\n",
    "print(x)\n",
    "# x in degerlerinin karekoku:\n",
    "print(np.sqrt(x))\n",
    "# x in degerlerinin 3. kuvveti:\n",
    "print(np.power(x,3))\n",
    "# x in degerlerinin logaritmik karşılıkları:\n",
    "print(np.exp(x))"
   ]
  },
  {
   "cell_type": "code",
   "execution_count": 20,
   "id": "a6e03f55-388a-4083-9f0e-618067f64e45",
   "metadata": {},
   "outputs": [
    {
     "name": "stdout",
     "output_type": "stream",
     "text": [
      "[[7 4 7]\n",
      " [8 1 1]\n",
      " [1 2 4]]\n",
      "35\n",
      "[16  7 12]\n",
      "[18 10  7]\n",
      "8\n",
      "1\n"
     ]
    }
   ],
   "source": [
    "x=np.random.randint(1, 10, size=(9,)).reshape(3,3)\n",
    "print(x)\n",
    "# xin elemanlarının toplamı :\n",
    "print(np.sum(x))\n",
    "print(x.sum(axis=0)) # x matrisinin sütunlardaki degerlerin toplamı\n",
    "print(x.sum(axis=1)) # x matrisinin satılardaki degerlerin toplami\n",
    "# x matrisinin en buyuk ve en kucuk elemanı:\n",
    "print(x.max())\n",
    "print(x.min())"
   ]
  },
  {
   "cell_type": "code",
   "execution_count": 19,
   "id": "18a57bc2-17fe-4406-8bda-f5e3be3cabbf",
   "metadata": {},
   "outputs": [
    {
     "name": "stdout",
     "output_type": "stream",
     "text": [
      "[1 8 6 8 3]\n",
      "0\n",
      "1\n"
     ]
    }
   ],
   "source": [
    "x1=np.random.randint(1, 10, size=(5,))\n",
    "print(x1)\n",
    "# x1 matrisindeki en buyuk ve en kucuk degerlerin index numaralrı:\n",
    "print(x1.argmin())\n",
    "print(x1.argmax())"
   ]
  },
  {
   "cell_type": "code",
   "execution_count": null,
   "id": "93632d8d-f0dc-45bb-a239-7daa0d00bc30",
   "metadata": {},
   "outputs": [],
   "source": []
  }
 ],
 "metadata": {
  "kernelspec": {
   "display_name": "Python 3 (ipykernel)",
   "language": "python",
   "name": "python3"
  },
  "language_info": {
   "codemirror_mode": {
    "name": "ipython",
    "version": 3
   },
   "file_extension": ".py",
   "mimetype": "text/x-python",
   "name": "python",
   "nbconvert_exporter": "python",
   "pygments_lexer": "ipython3",
   "version": "3.11.0"
  }
 },
 "nbformat": 4,
 "nbformat_minor": 5
}
