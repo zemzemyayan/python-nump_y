{
 "cells": [
  {
   "cell_type": "code",
   "execution_count": 4,
   "id": "0d1fa85c-30fd-45aa-8c82-484eef5ca1c0",
   "metadata": {},
   "outputs": [],
   "source": [
    "import time\n",
    "import numpy as np"
   ]
  },
  {
   "cell_type": "code",
   "execution_count": 21,
   "id": "9c3699d9-1da9-499d-8585-aa93808190d2",
   "metadata": {},
   "outputs": [],
   "source": [
    "#başlamdan once numpy ile ilgili öğrenmek istediğin her şey aşağıdaki linkte var:\n",
    "#https://numpy.org/devdocs/index.html\n",
    "#numpy da ndarray oluşturmanın iki yolu vardır:\n",
    "#1.klasik python listeleri tupleları sozlukleri vs \n",
    "#2.numpy da gomulu dizi fonksiyonlarını kullanarak \n"
   ]
  },
  {
   "cell_type": "code",
   "execution_count": 23,
   "id": "3e10adba-7c6b-4fd7-98a3-1b6d95e34e81",
   "metadata": {},
   "outputs": [
    {
     "name": "stdout",
     "output_type": "stream",
     "text": [
      "[4 5 6 7]\n",
      "type(x)->  <class 'numpy.ndarray'>\n",
      "x.shape->  (4,)\n",
      "x.size->   4\n",
      "x.ndim->   1\n",
      "x.nbytes->   16\n",
      "x.dtype->   int32\n"
     ]
    }
   ],
   "source": [
    "#ndim niteliği arrayin kaç boyutlu oldugnu doner\n",
    "#shape niteliği oncelikle kaç deger oldugunu ve bu degerlerin kaç boyutlu veride saklandıgının verisini tuple() olarak doner\n",
    "#size array de kaç eleman oldugunu doner \n",
    "#nbytes array de veriyi depolamak için kullanılan byte miktarını doner \n",
    "#array a ait verilerin veri tipini doner \n",
    "x=np.array([4,5,6,7])\n",
    "print(\"print(x)->  \",x)\n",
    "print(\"type(x)-> \",type(x))\n",
    "print(\"x.shape-> \",x.shape)\n",
    "print(\"x.size->  \",x.size)\n",
    "print(\"x.ndim->  \",x.ndim)\n",
    "print(\"x.nbytes->  \",x.nbytes)\n",
    "print(\"x.dtype->  \",x.dtype)"
   ]
  },
  {
   "cell_type": "code",
   "execution_count": 5,
   "id": "d568091f-e0e4-4245-824e-b7ad77d421b1",
   "metadata": {},
   "outputs": [
    {
     "name": "stdout",
     "output_type": "stream",
     "text": [
      "print(y)->   [[1 2 3]\n",
      " [4 5 6]]\n",
      "type(y)->  <class 'numpy.ndarray'>\n",
      "y.shape->  (2, 3)\n",
      "y.size->   6\n",
      "y.ndim->   2\n",
      "y.nbytes->   24\n",
      "y.dtype->   int32\n"
     ]
    }
   ],
   "source": [
    "#aşağıdaki iki boyutlu ndarray yapısı için 1.elemanı 3 elemanlı 1 boyutlu bir liste, 2.elemanı ise yine 1 boyutlu 3 elemanlı bir listedir\n",
    "y=np.array([[1,2,3],[4,5,6]])\n",
    "print(\"print(y)->  \",y)\n",
    "print(\"type(y)-> \",type(y))\n",
    "print(\"y.shape-> \",y.shape)\n",
    "print(\"y.size->  \",y.size)\n",
    "print(\"y.ndim->  \",y.ndim)\n",
    "print(\"y.nbytes->  \",y.nbytes)\n",
    "print(\"y.dtype->  \",y.dtype)"
   ]
  },
  {
   "cell_type": "code",
   "execution_count": 26,
   "id": "e871c374-97dc-4d57-80e4-f47b881f118c",
   "metadata": {},
   "outputs": [
    {
     "name": "stdout",
     "output_type": "stream",
     "text": [
      "print(a)->   ['12' '45' '6' 'zemzem' 'yayan']\n"
     ]
    }
   ],
   "source": [
    "#aşağıdaki şekilde olsuğu gibi içinde int veri tipinin yanında string verilerin de oldugu bir ndarray oluşturursak \n",
    "#numpy arrayin geri kalan tum elemanlarını string olarak alır  bu durumda dtype=<U11 geri doner  \n",
    "a=np.array([12,45,6,\"zemzem\",\"yayan\"])\n",
    "print(\"print(a)->  \",a)"
   ]
  },
  {
   "cell_type": "code",
   "execution_count": null,
   "id": "78bef819-1f46-4a01-b411-7624beeabbc2",
   "metadata": {},
   "outputs": [],
   "source": []
  }
 ],
 "metadata": {
  "kernelspec": {
   "display_name": "Python 3 (ipykernel)",
   "language": "python",
   "name": "python3"
  },
  "language_info": {
   "codemirror_mode": {
    "name": "ipython",
    "version": 3
   },
   "file_extension": ".py",
   "mimetype": "text/x-python",
   "name": "python",
   "nbconvert_exporter": "python",
   "pygments_lexer": "ipython3",
   "version": "3.11.0"
  }
 },
 "nbformat": 4,
 "nbformat_minor": 5
}
