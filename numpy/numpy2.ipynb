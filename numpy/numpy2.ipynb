{
 "cells": [
  {
   "cell_type": "code",
   "execution_count": 1,
   "id": "d62f1f37-8192-4266-b7bf-a8ee97a7430b",
   "metadata": {},
   "outputs": [],
   "source": [
    "import numpy as np"
   ]
  },
  {
   "cell_type": "code",
   "execution_count": 2,
   "id": "bee986d1-6696-43a5-a0ca-c6439d3198f7",
   "metadata": {},
   "outputs": [
    {
     "name": "stdout",
     "output_type": "stream",
     "text": [
      "x->  [3. 4. 5.]\n",
      "x.dtype->  float64\n"
     ]
    }
   ],
   "source": [
    "#Type Casting , kullanıcılar tarafından gerekli işlemin gerçekleştirilmesi amacıyla \n",
    "#Python değişken veri tipinin belirli bir veri tipine dönüştürülmesi yöntemidir\n",
    "#bir ndarray  verilerinin veri tipini öğrenmek için dtype niteliğini kullanıyoruz\n",
    "\n",
    "x=np.array([3,4.0,5])\n",
    "print(\"x-> \",x)\n",
    "print(\"x.dtype-> \",x.dtype)"
   ]
  },
  {
   "cell_type": "code",
   "execution_count": null,
   "id": "b2db35c0-3af6-438e-8fb8-a45540c11381",
   "metadata": {},
   "outputs": [],
   "source": [
    "#yukarıdaki kod bloğunda array içinde int ve float degerler var numpy 'upcasting' yaparak \n",
    "#veri türleri arasında en kapsayıcı veri türü hangisi ise tüm arrayin verileirnin tipini o veri \n",
    "#tipi olarak kabul eder  float int den daha kapsayıcıdır\n",
    "#!numpy tarafından desteklenen birçok veri türü vardır ama bizim için en temel veri türleri şunlardır:\n",
    "#int, bool, folat, complex, unsigned int veri türleri \n"
   ]
  },
  {
   "cell_type": "code",
   "execution_count": 12,
   "id": "49625e92-9b40-497a-b338-26bd4b40ed86",
   "metadata": {},
   "outputs": [
    {
     "name": "stdout",
     "output_type": "stream",
     "text": [
      "x->  [ 3  4 23]\n",
      "x.dtype->  int32\n",
      "\n",
      "y->  [ 12.     3.67 -23.56]\n",
      "y.dtype->  float64\n",
      "\n",
      "z->  [ 3. +0.j  7.8+0.j -9. +0.j]\n",
      "z.dtype->  complex128\n"
     ]
    }
   ],
   "source": [
    "#!!ndarray verilerimizin dtype degerlerini kendimiz istersek de dışardan verebiliriz :\n",
    "#aşağıdaki linkte numpy da kullanımdan kalkan veri türleri var MUTLAKA İNCELE \n",
    "#https://numpy.org/devdocs/release/1.20.0-notes.html#deprecations\n",
    "\n",
    "#NOT: verilermize yeni veri tipleri set ederek istemediğimiz veri türleirinin  gelmesini engellemiş oluruz.\n",
    "#NOT: elimizdeki verilerin veri türü, set etmek istediğimiz veri türünden daha kapsayıcı ise bu set işlemine 'downcasting' denir \n",
    "\n",
    "import numpy as np\n",
    "x=np.array([3,4.7,23], dtype=np.int_)\n",
    "print(\"x-> \", x)\n",
    "print(\"x.dtype-> \", x.dtype)\n",
    "\n",
    "print()\n",
    "\n",
    "y=np.array([12,3.67,-23.56], dtype=np.float64)\n",
    "print(\"y-> \", y)\n",
    "print(\"y.dtype-> \", y.dtype)\n",
    "\n",
    "print()\n",
    "\n",
    "z=np.array([3,7.8,-9], dtype=np.complex128)\n",
    "print(\"z-> \", z)\n",
    "print(\"z.dtype-> \", z.dtype)"
   ]
  },
  {
   "cell_type": "code",
   "execution_count": 13,
   "id": "2265e833-3dff-4817-b07b-008c0057042b",
   "metadata": {},
   "outputs": [
    {
     "name": "stdout",
     "output_type": "stream",
     "text": [
      "x->  [1. 2. 3. 4.]\n",
      "x.dtype->  float64\n",
      "\n",
      "x->  [1.+0.j 2.+0.j 3.+0.j 4.+0.j]\n",
      "x.dtype->  complex128\n"
     ]
    }
   ],
   "source": [
    "#belli bir ndarray oluşturduğumuzda kendisinin veri tipini sonradan değiştiremeyiz ancak sonradan veri tipinin bir\n",
    "#kopyası üzerinden veri türleri ile ilgili istenilen değişiklikleri yapabiliriz: \n",
    "\n",
    "x=np.array([1,2,3,4], dtype=np.float64)\n",
    "print(\"x-> \", x)\n",
    "print(\"x.dtype-> \", x.dtype)\n",
    "\n",
    "print()\n",
    "\n",
    "#x adında yeniden bir liste oluşturuluyor\n",
    "x=np.array(x, dtype=np.complex128)\n",
    "print(\"x-> \", x)\n",
    "print(\"x.dtype-> \", x.dtype)"
   ]
  },
  {
   "cell_type": "code",
   "execution_count": 14,
   "id": "b79c3757-f849-4e90-a505-ca19ed8d39e8",
   "metadata": {},
   "outputs": [
    {
     "name": "stdout",
     "output_type": "stream",
     "text": [
      "x->  [1. 2. 3. 4.]     x.dtype->  float64\n",
      "x->  [1.+0.j 2.+0.j 3.+0.j 4.+0.j]     x.dtype->  complex128\n"
     ]
    }
   ],
   "source": [
    "#NOT:bir ndarray in veri tipini değiştirmenin diğer bir yolu ise 'astype()' metodudur:\n",
    "\n",
    "x=np.array([1,2,3,4], dtype=np.float64)\n",
    "print(\"x-> \", x, \"   \", \"x.dtype-> \", x.dtype)\n",
    "x=x.astype(np.complex128)\n",
    "print(\"x-> \", x, \"   \", \"x.dtype-> \",x.dtype)\n"
   ]
  },
  {
   "cell_type": "code",
   "execution_count": 16,
   "id": "c61a7aba-da5d-4d6f-af7e-ca7d70d825d5",
   "metadata": {},
   "outputs": [
    {
     "name": "stdout",
     "output_type": "stream",
     "text": [
      "x1 + x2 ->  [6.2 4.8 7.9]\n",
      "\n",
      "(x1 + x2).dtype ->  float64\n"
     ]
    }
   ],
   "source": [
    "#kendisinden daha az kapsayıcı veri türüne sahip bir ndarray ile kenidisini toplarsak yeni toplam sonucunu veren ndarray de\n",
    "#daha yüksek kapsayıcı veri türüne sahip verinin türüne sahip olur :\n",
    "\n",
    "x1=np.array([1,2,3], dtype=np.int_)\n",
    "x2=np.array([5.2,2.8,4.9], dtype=np.float64)\n",
    "print(\"x1 + x2 -> \", x1+x2)\n",
    "print()\n",
    "print(\"(x1 + x2).dtype -> \", (x1+x2).dtype)\n",
    "\n",
    "\n"
   ]
  },
  {
   "cell_type": "code",
   "execution_count": 20,
   "id": "60d65191-aae8-4569-a070-6c5ac4954502",
   "metadata": {},
   "outputs": [
    {
     "ename": "TypeError",
     "evalue": "cannot unpack non-iterable type object",
     "output_type": "error",
     "traceback": [
      "\u001b[1;31m---------------------------------------------------------------------------\u001b[0m",
      "\u001b[1;31mTypeError\u001b[0m                                 Traceback (most recent call last)",
      "Cell \u001b[1;32mIn[20], line 3\u001b[0m\n\u001b[0;32m      1\u001b[0m \u001b[38;5;66;03m#bir ndarray in elemanlarının 'sqrt()' metodu ile karekoklerini alalım fakat bu verilerin türünü float alıp sonuca bakarsak:\u001b[39;00m\n\u001b[1;32m----> 3\u001b[0m x\u001b[38;5;241m=\u001b[39mnp\u001b[38;5;241m.\u001b[39marray[\u001b[38;5;241m1\u001b[39m,\u001b[38;5;241m9\u001b[39m,\u001b[38;5;241m16\u001b[39m], dtype\u001b[38;5;241m=\u001b[39mnp\u001b[38;5;241m.\u001b[39mfloat64\n\u001b[0;32m      4\u001b[0m x\u001b[38;5;241m=\u001b[39mx\u001b[38;5;241m.\u001b[39mnp\u001b[38;5;241m.\u001b[39msqrt(x)\n\u001b[0;32m      5\u001b[0m \u001b[38;5;28mprint\u001b[39m(\u001b[38;5;124m\"\u001b[39m\u001b[38;5;124mx-> \u001b[39m\u001b[38;5;124m\"\u001b[39m, x)\n",
      "\u001b[1;31mTypeError\u001b[0m: cannot unpack non-iterable type object"
     ]
    }
   ],
   "source": [
    "#bir ndarray in elemanlarının 'sqrt()' metodu ile karekoklerini alalım fakat bu verilerin türünü float alıp sonuca bakarsak:\n",
    "\n",
    "x=np.sqrt(np.array[-1,9,16], dtype=np.float64)\n",
    "print(\"x-> \", x)\n",
    "print(\"x.dtype-> \", x.dtype)\n",
    "\n",
    "#aşağıdaki şekildeki gibi hata verdi."
   ]
  },
  {
   "cell_type": "code",
   "execution_count": 21,
   "id": "e291abbb-0732-42d5-8f92-44c38252598d",
   "metadata": {},
   "outputs": [
    {
     "name": "stdout",
     "output_type": "stream",
     "text": [
      "x->  [3.+0.j 6.+0.j 9.+0.j 2.+0.j]\n",
      "ximag->  [0. 0. 0. 0.]\n",
      "x.real->  [3. 6. 9. 2.]\n",
      "(x.imag).dtype->  float64\n",
      "(x.real).dtype->  float64\n"
     ]
    }
   ],
   "source": [
    "#complex degerlerden oluşan bir ndarray in image ve real kısımalrını ve veri türlerini goruntuleyelim:\n",
    "\n",
    "x=np.array([3,6,9,2], dtype=np.complex128)\n",
    "print(\"x-> \",x)\n",
    "print(\"ximag-> \", x.imag)\n",
    "print(\"x.real-> \",x.real)\n",
    "print(\"(x.imag).dtype-> \", (x.imag).dtype)\n",
    "print(\"(x.real).dtype-> \", (x.real).dtype)"
   ]
  },
  {
   "cell_type": "code",
   "execution_count": 27,
   "id": "b26a614d-c45b-4e8f-b603-778d3ed352ee",
   "metadata": {},
   "outputs": [],
   "source": [
    "#ndaray lerde save() ve load() metodları:\n",
    "#-> array_. save ( dosya , arr , Allow_pickle = True , fix_imports = True )\n",
    "#python da bir ndarray dizisini dosya ya kaydetmek istersen save() metodu kullanırız\n",
    "\n",
    "#-> array_. load ( dosya , mmap_mode = Yok , Allow_pickle = False , fix_imports = True , encoding = 'ASCII' , * , max_header_size = 10000 )\n",
    "#pytdonda dosya halinde kaydettiğimiz ndarray in verilerini goruntulemek istersek load() metodu kullanırız\n"
   ]
  },
  {
   "cell_type": "code",
   "execution_count": null,
   "id": "2369916c-7f86-45a2-9c37-e89c943e53e1",
   "metadata": {},
   "outputs": [],
   "source": []
  }
 ],
 "metadata": {
  "kernelspec": {
   "display_name": "Python 3 (ipykernel)",
   "language": "python",
   "name": "python3"
  },
  "language_info": {
   "codemirror_mode": {
    "name": "ipython",
    "version": 3
   },
   "file_extension": ".py",
   "mimetype": "text/x-python",
   "name": "python",
   "nbconvert_exporter": "python",
   "pygments_lexer": "ipython3",
   "version": "3.11.0"
  }
 },
 "nbformat": 4,
 "nbformat_minor": 5
}
