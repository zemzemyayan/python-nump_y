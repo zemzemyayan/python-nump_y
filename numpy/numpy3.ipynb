{
 "cells": [
  {
   "cell_type": "code",
   "execution_count": 1,
   "id": "ebacb484-89cc-4fea-81ce-b09a6e34c869",
   "metadata": {},
   "outputs": [],
   "source": [
    "#bu bolumde numpy da kullanılan gömülü fonksiyonlar işlenecektir .\n",
    "import numpy as np"
   ]
  },
  {
   "cell_type": "code",
   "execution_count": 3,
   "id": "eb5ef67f-a404-4944-b1f2-c906a24a6d5d",
   "metadata": {},
   "outputs": [
    {
     "name": "stdout",
     "output_type": "stream",
     "text": [
      "x->  [0. 0. 0. 0.]\n",
      "x.dtype->  float64\n"
     ]
    }
   ],
   "source": [
    "#1-> ones() metodu : \n",
    "#ones metodu istenilen matris buyuklugunde eleamnları 1 den oluşan bir matris oluştrumaya yarar \n",
    "#2-> zeros() metodu :\n",
    "#zeros metodu istenilen matris buyuklugunde elemanları 0 dan oluşan bir matris oluşturmaya yarar \n",
    "\n",
    "\n",
    "x=np.zeros(4)\n",
    "print(\"x-> \",x)\n",
    "print(\"x.dtype-> \",x.dtype)\n",
    "\n",
    "#yukarıdakı kod elemanları 0 dan oluşan tek boyutlu 4 elemanlı bir liste oluşturur"
   ]
  },
  {
   "cell_type": "code",
   "execution_count": 5,
   "id": "b9586a04-fde1-4bbc-8071-45d818592d88",
   "metadata": {},
   "outputs": [
    {
     "name": "stdout",
     "output_type": "stream",
     "text": [
      "y->  [1. 1. 1. 1.]\n",
      "y.dtype->  float64\n"
     ]
    }
   ],
   "source": [
    "y=np.ones(4)\n",
    "print(\"y-> \",y)\n",
    "print(\"y.dtype-> \",y.dtype)\n",
    "\n",
    "#yukarıdaki kod elemanları 1 den oluşan tek boyutlu 4 elemanlı bir liste oluşturur"
   ]
  },
  {
   "cell_type": "code",
   "execution_count": 7,
   "id": "f6b85b31-afb2-4d64-a157-ae7a297153e8",
   "metadata": {},
   "outputs": [
    {
     "name": "stdout",
     "output_type": "stream",
     "text": [
      "x-> \n",
      "[[[0 0 0 0]\n",
      "  [0 0 0 0]\n",
      "  [0 0 0 0]]\n",
      "\n",
      " [[0 0 0 0]\n",
      "  [0 0 0 0]\n",
      "  [0 0 0 0]]]\n",
      "x.dtype->  int32\n"
     ]
    }
   ],
   "source": [
    "#aşağıdaki kullanımlara dikkat edelim metod((*)) * yerine yazılan şey istenilen matris hakkında boyut ve adet bilgisi verir:\n",
    "#aşağıdaki (2,3,4) kullannımı: \"2 adet  3X4 lük matrisler oluştur \"\n",
    "x=np.zeros((2,3,4), dtype=np.int_)\n",
    "print(\"x-> \")\n",
    "print(x)\n",
    "print(\"x.dtype-> \",x.dtype)\n"
   ]
  },
  {
   "cell_type": "code",
   "execution_count": 9,
   "id": "6cfc1efd-c8b2-417e-8fa9-2bfcb9d4c87c",
   "metadata": {},
   "outputs": [
    {
     "name": "stdout",
     "output_type": "stream",
     "text": [
      "y-> \n",
      "[[[1 1]\n",
      "  [1 1]]\n",
      "\n",
      " [[1 1]\n",
      "  [1 1]]\n",
      "\n",
      " [[1 1]\n",
      "  [1 1]]]\n",
      "y.dtype->  int32\n"
     ]
    }
   ],
   "source": [
    "y=np.ones((3,2,2), dtype=np.int_)\n",
    "print(\"y-> \")\n",
    "print(y)\n",
    "print(\"y.dtype-> \",y.dtype)\n"
   ]
  },
  {
   "cell_type": "code",
   "execution_count": 10,
   "id": "e53e9143-6161-460c-8be9-3f3aaf163711",
   "metadata": {},
   "outputs": [
    {
     "name": "stdout",
     "output_type": "stream",
     "text": [
      "x-> \n",
      "[[10 10 10]\n",
      " [10 10 10]]\n",
      "x.dtype->  int32\n"
     ]
    }
   ],
   "source": [
    "#3-> full() metodu: \n",
    "#eğer ki 0 ve 1 den farklı olarak matris degerlerimizin bir sabit degerden oluşmasını istoyorsak full() metodu kullanırız :\n",
    "\n",
    "#aşağıdaki kullanım : \"full((2,3),10 ) elemanları 10 dan oluşan 2X3 lük bir matris\" oluştur demek\n",
    "x=np.full((2,3), 10)\n",
    "print(\"x-> \")\n",
    "print(x)\n",
    "print(\"x.dtype-> \",x.dtype)\n",
    "\n",
    "#NOT: ones() ve zeros() metodları default olarak elemanların veri tipini float64 valırken \n",
    "#full() metodu kullandıgı sabitin veri tipini alır  "
   ]
  },
  {
   "cell_type": "code",
   "execution_count": 11,
   "id": "57802044-7018-48ee-83de-a004638462db",
   "metadata": {},
   "outputs": [
    {
     "name": "stdout",
     "output_type": "stream",
     "text": [
      "x-> \n",
      "[[1. 0. 0. 0.]\n",
      " [0. 1. 0. 0.]\n",
      " [0. 0. 1. 0.]\n",
      " [0. 0. 0. 1.]]\n",
      "x.dtype->  float64\n",
      "\n",
      "y-> \n",
      "[[1. 0. 0. 0.]\n",
      " [0. 1. 0. 0.]\n",
      " [0. 0. 1. 0.]\n",
      " [0. 0. 0. 1.]\n",
      " [0. 0. 0. 0.]]\n",
      "y.dtype->  float64\n"
     ]
    }
   ],
   "source": [
    "#4-> eye() metodu :\n",
    "#eye metodu istenilen ölçüde bir \"birim matris oluşturur .\"\n",
    "\n",
    "x=np.eye(4)\n",
    "print(\"x-> \")\n",
    "print(x)\n",
    "print(\"x.dtype-> \",x.dtype)\n",
    "print()\n",
    "y=np.eye(5,4)\n",
    "print(\"y-> \")\n",
    "print(y)\n",
    "print(\"y.dtype-> \",y.dtype)\n",
    "\n",
    "\n"
   ]
  },
  {
   "cell_type": "code",
   "execution_count": 12,
   "id": "845dac16-d350-4027-9dbd-d3b789a63873",
   "metadata": {},
   "outputs": [
    {
     "name": "stdout",
     "output_type": "stream",
     "text": [
      "x-> \n",
      "[[1. 0. 0. 0. 0. 0.]\n",
      " [0. 1. 0. 0. 0. 0.]\n",
      " [0. 0. 1. 0. 0. 0.]\n",
      " [0. 0. 0. 1. 0. 0.]\n",
      " [0. 0. 0. 0. 1. 0.]\n",
      " [0. 0. 0. 0. 0. 1.]]\n",
      "\n",
      "y-> \n",
      "[[0. 1. 0. 0. 0. 0.]\n",
      " [0. 0. 1. 0. 0. 0.]\n",
      " [0. 0. 0. 1. 0. 0.]\n",
      " [0. 0. 0. 0. 1. 0.]\n",
      " [0. 0. 0. 0. 0. 1.]\n",
      " [0. 0. 0. 0. 0. 0.]]\n",
      "\n",
      "z-> \n",
      "[[0. 0. 0. 0. 0. 0.]\n",
      " [0. 0. 0. 0. 0. 0.]\n",
      " [1. 0. 0. 0. 0. 0.]\n",
      " [0. 1. 0. 0. 0. 0.]\n",
      " [0. 0. 1. 0. 0. 0.]\n",
      " [0. 0. 0. 1. 0. 0.]]\n"
     ]
    }
   ],
   "source": [
    "#eye() metoduna kullanılcak olan k parametresinin degeri birim matristeki diyagonelin konumu belirler:\n",
    "\n",
    "x=np.eye(6)\n",
    "print(\"x-> \")\n",
    "print(x)\n",
    "print()\n",
    "y=np.eye(6, k=1)\n",
    "print(\"y-> \")\n",
    "print(y)\n",
    "print()\n",
    "z=np.eye(6, k=-2)\n",
    "print(\"z-> \")\n",
    "print(z)\n",
    "\n",
    "#yukarıdaki kodda x in diyagoneli tam oratada y nin ki 1 birin sağ yukarı z ninki 2 birim sol aşağı gelmiş şekilde görünecektir:"
   ]
  },
  {
   "cell_type": "code",
   "execution_count": 13,
   "id": "a1661d95-1005-4798-95e4-be080ad96734",
   "metadata": {},
   "outputs": [
    {
     "name": "stdout",
     "output_type": "stream",
     "text": [
      "x-> \n",
      "[[ 4  0  0  0]\n",
      " [ 0  5  0  0]\n",
      " [ 0  0  6  0]\n",
      " [ 0  0  0 -3]]\n"
     ]
    }
   ],
   "source": [
    "#5-> diag() metodu:\n",
    "#diag metodu birim matriste diyagonun yerine gelmesini istediğimiz degerleri ekler :\n",
    "\n",
    "x=np.diag([4,5,6,-3])\n",
    "print(\"x-> \")\n",
    "print(x)"
   ]
  },
  {
   "cell_type": "code",
   "execution_count": null,
   "id": "7b61deed-6869-4aa9-8de6-93aa223f49e7",
   "metadata": {},
   "outputs": [],
   "source": []
  }
 ],
 "metadata": {
  "kernelspec": {
   "display_name": "Python 3 (ipykernel)",
   "language": "python",
   "name": "python3"
  },
  "language_info": {
   "codemirror_mode": {
    "name": "ipython",
    "version": 3
   },
   "file_extension": ".py",
   "mimetype": "text/x-python",
   "name": "python",
   "nbconvert_exporter": "python",
   "pygments_lexer": "ipython3",
   "version": "3.11.0"
  }
 },
 "nbformat": 4,
 "nbformat_minor": 5
}
