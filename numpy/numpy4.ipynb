{
 "cells": [
  {
   "cell_type": "code",
   "execution_count": 19,
   "id": "a160a0b9-0577-4778-a13a-de08d8feb084",
   "metadata": {},
   "outputs": [],
   "source": [
    "#bu bolumde gömülü fonksiyonlara devam edilecektir :\n",
    "import numpy as np\n",
    "import random"
   ]
  },
  {
   "cell_type": "code",
   "execution_count": null,
   "id": "e2907e88-cc41-4f7c-8b0c-deeef78e02ed",
   "metadata": {},
   "outputs": [],
   "source": [
    "#-> arange() metodu :\n",
    "#arange metodunun arange(baslangic,bitis,adimsayisi) şeklinde parametreleri vardır\n",
    "#eger sadece bitiş degeri verilirse bitiş değeri dahil olmaycak şekilde 0 dan bitiş değerine kadar bir liste doner\n",
    "#aşağıdaki kullanımları inceleyelim"
   ]
  },
  {
   "cell_type": "code",
   "execution_count": 2,
   "id": "11729502-4d35-4db5-a6a6-ac43c62892e5",
   "metadata": {},
   "outputs": [
    {
     "name": "stdout",
     "output_type": "stream",
     "text": [
      "[0 1 2 3 4 5 6 7 8 9]\n"
     ]
    }
   ],
   "source": [
    "#[0,10) aralığında liste bastır :\n",
    "x=np.arange(10)\n",
    "print(x)"
   ]
  },
  {
   "cell_type": "code",
   "execution_count": 3,
   "id": "3af5f0ce-235c-4b09-8e1a-2aef45bad0c2",
   "metadata": {},
   "outputs": [
    {
     "name": "stdout",
     "output_type": "stream",
     "text": [
      "[ 1  2  3  4  5  6  7  8  9 10 11 12 13 14 15 16 17 18 19 20 21 22 23 24\n",
      " 25 26 27 28 29]\n"
     ]
    }
   ],
   "source": [
    "#[1,30) aralıgında lite bastır:\n",
    "x=np.arange(1,30)\n",
    "print(x)"
   ]
  },
  {
   "cell_type": "code",
   "execution_count": 4,
   "id": "c48af89a-f9be-4a0d-a1bf-2b7ce3d86d3c",
   "metadata": {},
   "outputs": [
    {
     "name": "stdout",
     "output_type": "stream",
     "text": [
      "[2 4 6 8]\n"
     ]
    }
   ],
   "source": [
    "#[2,10,2] 2 10(10 degerinin dahil olmaycagına dikkat edin) aralıgında 2 şer artan bir liste bastir:\n",
    "x=np.arange(2,10,2)\n",
    "print(x)"
   ]
  },
  {
   "cell_type": "code",
   "execution_count": 5,
   "id": "5d5c80ef-220e-4dc6-90d8-60efeb28d9c2",
   "metadata": {},
   "outputs": [
    {
     "name": "stdout",
     "output_type": "stream",
     "text": [
      "[]\n"
     ]
    }
   ],
   "source": [
    "#NOT: eğer ki başlangıç degeri verilmeden bitiş ve artış mktarı argümanları verilirse yanlış bir kullanım olmuş olur \n",
    "#çünkü python hangi degerin nereye gelecegini bilmeycektir sadece kaç parametre aldgını bilir incelyelim:\n",
    "#yapmaya çalıştığımız şeyi uygulasak:\n",
    "\n",
    "# 0 ile 10 arsında 2 şer artan 10 a kadar bir liste don ve yazdir:\n",
    "x=np.arange(10,2)\n",
    "print(x)"
   ]
  },
  {
   "cell_type": "code",
   "execution_count": null,
   "id": "e29aef2f-bf37-434f-993d-9b8a2e6ecda6",
   "metadata": {},
   "outputs": [],
   "source": [
    "#-> linspace metodu :\n",
    "# linspace(baslangiç,bitiş,eleman_sayisi)\n",
    "#linspace metodu başlangıç ve bitiş aralıgında istenilen eleman sayısı kadar veri üretir \n",
    "#NOT: linspace metoduna bitiş değeri listeye dahil edilir !\n",
    "#aşağıdaki kullanımları inceleyelim:\n"
   ]
  },
  {
   "cell_type": "code",
   "execution_count": 6,
   "id": "863c0dff-c8bb-4e3c-90dd-c6d978e714d7",
   "metadata": {},
   "outputs": [
    {
     "name": "stdout",
     "output_type": "stream",
     "text": [
      "[ 0.          1.66666667  3.33333333  5.          6.66666667  8.33333333\n",
      " 10.         11.66666667 13.33333333 15.        ]\n"
     ]
    }
   ],
   "source": [
    "#[0,15] aralıgında 10 adet deger üreteb bir liste :\n",
    "x=np.linspace(0, 15, 10)\n",
    "print(x)"
   ]
  },
  {
   "cell_type": "code",
   "execution_count": 7,
   "id": "f0dcf145-57e1-4187-8140-c0a4f661f3f7",
   "metadata": {},
   "outputs": [
    {
     "name": "stdout",
     "output_type": "stream",
     "text": [
      "[ 0.          0.40816327  0.81632653  1.2244898   1.63265306  2.04081633\n",
      "  2.44897959  2.85714286  3.26530612  3.67346939  4.08163265  4.48979592\n",
      "  4.89795918  5.30612245  5.71428571  6.12244898  6.53061224  6.93877551\n",
      "  7.34693878  7.75510204  8.16326531  8.57142857  8.97959184  9.3877551\n",
      "  9.79591837 10.20408163 10.6122449  11.02040816 11.42857143 11.83673469\n",
      " 12.24489796 12.65306122 13.06122449 13.46938776 13.87755102 14.28571429\n",
      " 14.69387755 15.10204082 15.51020408 15.91836735 16.32653061 16.73469388\n",
      " 17.14285714 17.55102041 17.95918367 18.36734694 18.7755102  19.18367347\n",
      " 19.59183673 20.        ]\n"
     ]
    }
   ],
   "source": [
    "#NOT: eğer ki linspace metodunda 3.parametre verilmezse N=50 default olarak gelir:\n",
    "#aşağıdaki kodda 3.parametere verilmediği için [0,20] aralığında 50 deger basar!\n",
    "x=np.linspace(0,20)\n",
    "print(x)"
   ]
  },
  {
   "cell_type": "code",
   "execution_count": 8,
   "id": "77a46726-a037-4215-8d19-6c0e7775beb8",
   "metadata": {},
   "outputs": [
    {
     "name": "stdout",
     "output_type": "stream",
     "text": [
      "[ 0.   0.3  0.6  0.9  1.2  1.5  1.8  2.1  2.4  2.7  3.   3.3  3.6  3.9\n",
      "  4.2  4.5  4.8  5.1  5.4  5.7  6.   6.3  6.6  6.9  7.2  7.5  7.8  8.1\n",
      "  8.4  8.7  9.   9.3  9.6  9.9 10.2 10.5 10.8 11.1 11.4 11.7 12.  12.3\n",
      " 12.6 12.9 13.2 13.5 13.8 14.1 14.4 14.7]\n"
     ]
    }
   ],
   "source": [
    "#NOT: linspace metodunda bitiş parameteresini dahil etmek istemezsek endpoint=False deriz:\n",
    "x=np.linspace(0,15, endpoint=False)\n",
    "print(x)"
   ]
  },
  {
   "cell_type": "code",
   "execution_count": 11,
   "id": "58b2f016-427c-46b6-afc3-53d25f6a76b8",
   "metadata": {},
   "outputs": [
    {
     "name": "stdout",
     "output_type": "stream",
     "text": [
      "arange(20) ile oluşan x :\n",
      "[ 0  1  2  3  4  5  6  7  8  9 10 11 12 13 14 15 16 17 18 19]\n",
      "\n",
      "reshape(x, (4,5)) 4X5 matris ile oluşan x :\n",
      "[[ 0  1  2  3  4]\n",
      " [ 5  6  7  8  9]\n",
      " [10 11 12 13 14]\n",
      " [15 16 17 18 19]]\n"
     ]
    }
   ],
   "source": [
    "#-> reshape() metodu:\n",
    "#uluşturulmuş olan bir ndarray yapsının matrislerini değiştirmek istersek reshapae() metodu \n",
    "#kullanırız burada önemli olan orjinal matris ile yeniden şekillendirmeye çalıştığımız \n",
    "#matris sonuçta aynı elemana sahip olmalıdır\n",
    "\n",
    "x=np.arange(20)\n",
    "print(\"arange(20) ile oluşan x :\")\n",
    "print(x)\n",
    "print()\n",
    "y=np.reshape(x,(4,5))\n",
    "print(\"reshape(x, (4,5)) 4X5 matris ile oluşan x :\")\n",
    "print(y)\n"
   ]
  },
  {
   "cell_type": "code",
   "execution_count": 13,
   "id": "9617b9dc-0b33-47f4-9a30-1dd615bcf06a",
   "metadata": {},
   "outputs": [
    {
     "name": "stdout",
     "output_type": "stream",
     "text": [
      "np.array(0,1,2,3..,8,9) ile oluşan x: \n",
      "[0 1 2 3 4 5 6 7 8 9]\n",
      "x.reshape(3,2) ile oluşan x: \n",
      "[[0 1]\n",
      " [2 3]\n",
      " [4 5]\n",
      " [6 7]\n",
      " [8 9]]\n"
     ]
    }
   ],
   "source": [
    "#yukarıdaki örneğin diğer bir kullanımına bakcak olursak:\n",
    "x = np.array([0, 1, 2, 3, 4, 5, 6, 7, 8, 9]) \n",
    "print(\"np.array(0,1,2,3..,8,9) ile oluşan x: \")\n",
    "print(x)\n",
    "print(\"x.reshape(3,2) ile oluşan x: \")\n",
    "print(x.reshape(5,2)) "
   ]
  },
  {
   "cell_type": "code",
   "execution_count": 15,
   "id": "4acd845b-42cb-4d16-85fc-8f39c25dcced",
   "metadata": {},
   "outputs": [
    {
     "name": "stdout",
     "output_type": "stream",
     "text": [
      "arange(32) ile oluşan x: \n",
      "[ 0  1  2  3  4  5  6  7  8  9 10 11 12 13 14 15 16 17 18 19 20 21 22 23\n",
      " 24 25 26 27 28 29 30 31]\n",
      "\n",
      "reshape(x, (2,4,4)) ile olışan x: \n",
      "[[[ 0  1  2  3]\n",
      "  [ 4  5  6  7]\n",
      "  [ 8  9 10 11]\n",
      "  [12 13 14 15]]\n",
      "\n",
      " [[16 17 18 19]\n",
      "  [20 21 22 23]\n",
      "  [24 25 26 27]\n",
      "  [28 29 30 31]]]\n"
     ]
    }
   ],
   "source": [
    "#reshape için başka bir kullanıma bakcak olursak 2 tane 4X4 lük matrisin \n",
    "#eleman sayısı 16 + 16 dan 32 dir arange ile 32 elemanlı bir ndarray oluşturalım \n",
    "#ve bu ndarrayi reshape metodu ile 2 adet 4X4 lük matris haline dönüştürelim:\n",
    "\n",
    "x=np.arange(32)\n",
    "print(\"arange(32) ile oluşan x: \")\n",
    "print(x)\n",
    "print()\n",
    "y=np.reshape(x, (2,4,4))\n",
    "print(\"reshape(x, (2,4,4)) ile olışan x: \")\n",
    "print(y)\n"
   ]
  },
  {
   "cell_type": "code",
   "execution_count": 17,
   "id": "ca98b569-d3ed-4e3f-979e-ce1acd8b7c45",
   "metadata": {},
   "outputs": [
    {
     "name": "stdout",
     "output_type": "stream",
     "text": [
      "linspace(0,19,20) ile oluşturulan x: \n",
      "[ 0.  1.  2.  3.  4.  5.  6.  7.  8.  9. 10. 11. 12. 13. 14. 15. 16. 17.\n",
      " 18. 19.]\n",
      "\n",
      "reshape(x, (2,10)) ile oluşturulan x: \n",
      "[[ 0.  1.  2.  3.  4.  5.  6.  7.  8.  9.]\n",
      " [10. 11. 12. 13. 14. 15. 16. 17. 18. 19.]]\n",
      "\n",
      "reshape(x, (4,5)) ile oluşturulan x: \n",
      "[[ 0.  1.  2.  3.  4.]\n",
      " [ 5.  6.  7.  8.  9.]\n",
      " [10. 11. 12. 13. 14.]\n",
      " [15. 16. 17. 18. 19.]]\n"
     ]
    }
   ],
   "source": [
    "#reshape() metodunu bize liste donen fonksiyonda kullanabiliriz:\n",
    "#şimdi reshape() metodunu linspace() metodu ile kullanalım:\n",
    "\n",
    "#linspace() ile [0,19] aralıgında 20 adet deger üretelim:\n",
    "x=np.linspace(0,19,20)\n",
    "print(\"linspace(0,19,20) ile oluşturulan x: \")\n",
    "print(x)\n",
    "print()\n",
    "y=np.reshape(x, (2,10))\n",
    "print(\"reshape(x, (2,10)) ile oluşturulan x: \")\n",
    "print(y)\n",
    "print()\n",
    "z=np.reshape(x, (4,5))\n",
    "print(\"reshape(x, (4,5)) ile oluşturulan x: \")\n",
    "print(z)\n",
    "\n",
    "\n"
   ]
  },
  {
   "cell_type": "code",
   "execution_count": 18,
   "id": "cee40256-7052-4e25-bdac-932c3dc9af17",
   "metadata": {},
   "outputs": [
    {
     "name": "stdout",
     "output_type": "stream",
     "text": [
      "[[ 0.  1.  2.  3.  4.  5.  6.  7.  8.  9.]\n",
      " [10. 11. 12. 13. 14. 15. 16. 17. 18. 19.]]\n"
     ]
    }
   ],
   "source": [
    "#NOT: yukarıda yapılan işlemi tek bir satırda yazabiliriz:\n",
    "\n",
    "z=np.linspace(0,19,20).reshape(2,10)\n",
    "print(z)\n"
   ]
  },
  {
   "cell_type": "code",
   "execution_count": 20,
   "id": "a85db8d9-18bc-480d-b32f-6de0ad73c3df",
   "metadata": {},
   "outputs": [
    {
     "name": "stdout",
     "output_type": "stream",
     "text": [
      "x-> \n",
      "[[0.17764689 0.30619067 0.76766637]\n",
      " [0.08948598 0.46608397 0.71066721]]\n"
     ]
    }
   ],
   "source": [
    "#ndarray lerin random() metodlarla kulanımı:\n",
    "#aşağıdaki kullanımları inceleyelim:\n",
    "#random() metodu [0,1) aralığında rasgele sayılar üretir di \n",
    "\n",
    "# [0,1) aralıgında rasgele degerlerden oluşan  2X3 lük bir matris verir:\n",
    "x=np.random.random((2,3))\n",
    "print(\"x-> \")\n",
    "print(x)"
   ]
  },
  {
   "cell_type": "code",
   "execution_count": 21,
   "id": "a4eac61f-265e-4425-885b-6bbcc7a3872e",
   "metadata": {},
   "outputs": [
    {
     "name": "stdout",
     "output_type": "stream",
     "text": [
      "[[ 6  4]\n",
      " [ 6  3]\n",
      " [10  8]]\n"
     ]
    }
   ],
   "source": [
    "#randint() metodu ile verilen iki aralıkta random degerler üretirdi:\n",
    "\n",
    "#[3,12] aralıgında  random degrlerden oluşan 2X3 lük bir matris verir:\n",
    "x=np.random.randint(3,12, size=(3,2))\n",
    "print(x)"
   ]
  },
  {
   "cell_type": "code",
   "execution_count": null,
   "id": "b330858c-1c2d-48f4-a9d6-43b0e05ecd11",
   "metadata": {},
   "outputs": [],
   "source": []
  },
  {
   "cell_type": "code",
   "execution_count": null,
   "id": "d88a4204-379d-425f-a0ff-948cbf1378e1",
   "metadata": {},
   "outputs": [],
   "source": []
  },
  {
   "cell_type": "code",
   "execution_count": null,
   "id": "b0e244e1-6e1c-42d4-a97a-d58d4a5a726c",
   "metadata": {},
   "outputs": [],
   "source": []
  },
  {
   "cell_type": "code",
   "execution_count": null,
   "id": "69f6aa92-833d-47e4-8852-05a6b1559d1f",
   "metadata": {},
   "outputs": [],
   "source": []
  },
  {
   "cell_type": "code",
   "execution_count": null,
   "id": "90992188-78e6-4e4c-b93c-ed5bb8f3ded9",
   "metadata": {},
   "outputs": [],
   "source": []
  }
 ],
 "metadata": {
  "kernelspec": {
   "display_name": "Python 3 (ipykernel)",
   "language": "python",
   "name": "python3"
  },
  "language_info": {
   "codemirror_mode": {
    "name": "ipython",
    "version": 3
   },
   "file_extension": ".py",
   "mimetype": "text/x-python",
   "name": "python",
   "nbconvert_exporter": "python",
   "pygments_lexer": "ipython3",
   "version": "3.11.0"
  }
 },
 "nbformat": 4,
 "nbformat_minor": 5
}
