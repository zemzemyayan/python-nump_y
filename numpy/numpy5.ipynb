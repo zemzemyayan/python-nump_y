{
 "cells": [
  {
   "cell_type": "code",
   "execution_count": 2,
   "id": "57fdc761-cff4-4dc6-bfcb-377c56e7c1e1",
   "metadata": {},
   "outputs": [],
   "source": [
    "#bu bölümde ndarray dizileri üzerinde CRUD operasyonları işlenecektir\n",
    "import numpy as np"
   ]
  },
  {
   "cell_type": "code",
   "execution_count": 2,
   "id": "b173dfdf-8bd2-4d88-b8aa-ccf14dfa8708",
   "metadata": {},
   "outputs": [
    {
     "name": "stdout",
     "output_type": "stream",
     "text": [
      "x->  [0 1 2 3 4]\n",
      "x[0]->  0\n",
      "x[2]->  2\n",
      "x[-1]->  4\n",
      "x[-2]->  3\n",
      "x[2]=200 den sonra  x[2]->  200\n"
     ]
    }
   ],
   "source": [
    "# tek boyutlu ndarray örneği üzerinden arryin verilerine ulaşalım ve de bazı değerleri değiştirelim:\n",
    "\n",
    "x=np.arange(5)\n",
    "print(\"x-> \", x)\n",
    "print(\"x[0]-> \", x[0])\n",
    "print(\"x[2]-> \", x[2])\n",
    "print(\"x[-1]-> \", x[-1])\n",
    "print(\"x[-2]-> \", x[-2])\n",
    "x[2]=200\n",
    "print(\"x[2]=200 den sonra  x[2]-> \", x[2])"
   ]
  },
  {
   "cell_type": "code",
   "execution_count": 8,
   "id": "e6543a97-6714-4b2e-8fc7-4c30453ea2a6",
   "metadata": {},
   "outputs": [
    {
     "name": "stdout",
     "output_type": "stream",
     "text": [
      "x-> \n",
      "[[ 0  1  2  3]\n",
      " [ 4  5  6  7]\n",
      " [ 8  9 10 11]]\n",
      "-------------\n",
      "x[0][0]->  0\n",
      "x[1][2]->  6\n",
      "x[2][3]->  11\n",
      "--------------\n",
      "x[0,0]->  0\n",
      "x[1,2]->  6\n",
      "x[2,3]->  11\n"
     ]
    }
   ],
   "source": [
    "# şimdi yukarıdaki benzer işlemleri iki boyutlu ndarray üzerinde yapalım:\n",
    "\n",
    "x=np.arange(12).reshape(3,4)\n",
    "print(\"x-> \")\n",
    "print(x)\n",
    "print(\"-------------\")\n",
    "# x[row,column] \n",
    "print(\"x[0][0]-> \", x[0][0]) # 0\n",
    "print(\"x[1][2]-> \", x[1][2]) # 6\n",
    "print(\"x[2][3]-> \", x[2][3]) # 11\n",
    "print(\"--------------\")\n",
    "print(\"x[0,0]-> \", x[0,0])\n",
    "print(\"x[1,2]-> \", x[1,2])\n",
    "print(\"x[2,3]-> \", x[2,3])\n"
   ]
  },
  {
   "cell_type": "code",
   "execution_count": 9,
   "id": "fd625380-7e1c-4ff9-a05f-48b2927baa18",
   "metadata": {},
   "outputs": [
    {
     "name": "stdout",
     "output_type": "stream",
     "text": [
      "[0 1 2 3 4 5]\n",
      "[2 3 4 5]\n"
     ]
    }
   ],
   "source": [
    "# tek boyutlu bir ndarray de bir degeri silmek istersek 'delete' kullanırız:\n",
    "\n",
    "x=np.arange(6)\n",
    "print(x)\n",
    "x=np.delete(x, [0,1]) # 0 ve 1. indexteki elemanlar silinir!\n",
    "print(x)"
   ]
  },
  {
   "cell_type": "code",
   "execution_count": 14,
   "id": "2731542f-25ee-4d8e-af1c-970d0a8ae0ba",
   "metadata": {},
   "outputs": [
    {
     "name": "stdout",
     "output_type": "stream",
     "text": [
      "[[ 0  1  2  3]\n",
      " [ 4  5  6  7]\n",
      " [ 8  9 10 11]\n",
      " [12 13 14 15]]\n",
      "\n",
      "[[ 0  1  2  3]\n",
      " [ 8  9 10 11]\n",
      " [12 13 14 15]]\n",
      "\n",
      "[[ 0  2  3]\n",
      " [ 8 10 11]\n",
      " [12 14 15]]\n",
      "\n",
      "[[ 2]\n",
      " [10]\n",
      " [14]]\n"
     ]
    }
   ],
   "source": [
    "# delete işlevini tek boyutlu ndarrayde uygulamak için silmek istediğimiz indexi vermemiz yeterli oluyordu \n",
    "# ama iki boyutlu bir ndarray de hangi satırda ki hangi sütunu silmek istediğimizi belirtmemiz gerek;\n",
    "# eğer silmek için bir bir satırı ifade edeceksen ' axis = 0 -> satır ' kullanırız\n",
    "# eğer silmek için bir sütunu ifade edeceksek ' axis = 1 -> sütun ' kullanırız\n",
    "\n",
    "x=np.arange(16).reshape(4,4)\n",
    "print(x)\n",
    "print()\n",
    "x=np.delete(x, 1, axis=0) # 1. satır silinecek \n",
    "print(x)\n",
    "print()\n",
    "x=np.delete(x, 1, axis=1) # 1. sütun silinecek\n",
    "print(x)\n",
    "print()\n",
    "x=np.delete(x, [0,2], axis=1) # 0. ve 2. sütun silinecek\n",
    "print(x)"
   ]
  },
  {
   "cell_type": "code",
   "execution_count": 5,
   "id": "5460e22e-87e3-4367-b263-53a78f55e724",
   "metadata": {},
   "outputs": [
    {
     "name": "stdout",
     "output_type": "stream",
     "text": [
      "[0 1 2 3 4]\n",
      "[  0 123   1   2   3   4]\n"
     ]
    }
   ],
   "source": [
    "# append metodu ndarrayin sonuna eleman ekler eğer belirli bir yere eleman eklemek istersek;\n",
    "# insert() metodunu kullanırız. tek boyutlu ndarray lere bakıcak olursak:\n",
    "# np.insert --> np.insert(ndarray, index, eleman)\n",
    "\n",
    "x=np.arange(5)\n",
    "print(x)\n",
    "x=np.insert(x, 1, 123)\n",
    "print(x)"
   ]
  },
  {
   "cell_type": "code",
   "execution_count": 6,
   "id": "b51993fe-d956-42e1-b408-b50cb83a14d2",
   "metadata": {},
   "outputs": [
    {
     "name": "stdout",
     "output_type": "stream",
     "text": [
      "[0 1 2 3 4]\n",
      "[  0   1 -43  34   2   3   4]\n"
     ]
    }
   ],
   "source": [
    "x=np.arange(5)\n",
    "print(x)\n",
    "x=np.insert(x, 2, [-43,34])\n",
    "print(x)"
   ]
  },
  {
   "cell_type": "code",
   "execution_count": 10,
   "id": "d4c9be55-e091-4de2-89db-2e2aadbf112f",
   "metadata": {},
   "outputs": [
    {
     "name": "stdout",
     "output_type": "stream",
     "text": [
      "[[0 1 2]\n",
      " [3 4 5]\n",
      " [6 7 8]]\n",
      "\n",
      "[[ 0  1  2]\n",
      " [-5  9 11]\n",
      " [ 3  4  5]\n",
      " [ 6  7  8]]\n",
      "\n",
      "[[10  0  1  2]\n",
      " [20 -5  9 11]\n",
      " [30  3  4  5]\n",
      " [40  6  7  8]]\n"
     ]
    }
   ],
   "source": [
    "# insert işlemini şimdi iki boyutlu ndarray için yapalım :\n",
    "\n",
    "x=np.arange(9).reshape(3,3)\n",
    "print(x)\n",
    "print()\n",
    "# x matrisinin 1.satırına [-5,9,11] degerlerini ekler :\n",
    "x=np.insert(x, 1, [-5,9,11], axis=0)\n",
    "print(x)\n",
    "print()\n",
    "# DİKKAT: şimdi matrisimiz 4X3 lük bir matris oldu bir satır daha eklendi.\n",
    "\n",
    "# x matrisinin 0.sütununa [10,20,30,40] degerlerini ekler: \n",
    "x=np.insert(x, 0, [10,20,30,40], axis=1)\n",
    "print(x)"
   ]
  },
  {
   "cell_type": "code",
   "execution_count": null,
   "id": "12a2a221-a2ec-461c-9396-532d14c13b96",
   "metadata": {},
   "outputs": [],
   "source": [
    "# arin yazılım numpy dersleri 5.ders 40.dk dan itibaren not alınmadı !\n",
    "# işlenen konu stack konusu."
   ]
  },
  {
   "cell_type": "code",
   "execution_count": null,
   "id": "c6d26c3f-36f0-488f-8fe6-d7cdf6dd8daf",
   "metadata": {},
   "outputs": [],
   "source": []
  },
  {
   "cell_type": "code",
   "execution_count": null,
   "id": "fab9f620-cb41-4856-8711-ab4e2038802d",
   "metadata": {},
   "outputs": [],
   "source": []
  }
 ],
 "metadata": {
  "kernelspec": {
   "display_name": "Python 3 (ipykernel)",
   "language": "python",
   "name": "python3"
  },
  "language_info": {
   "codemirror_mode": {
    "name": "ipython",
    "version": 3
   },
   "file_extension": ".py",
   "mimetype": "text/x-python",
   "name": "python",
   "nbconvert_exporter": "python",
   "pygments_lexer": "ipython3",
   "version": "3.11.0"
  }
 },
 "nbformat": 4,
 "nbformat_minor": 5
}
