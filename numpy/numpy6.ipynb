{
 "cells": [
  {
   "cell_type": "code",
   "execution_count": 1,
   "id": "14d439f5-ab02-46b8-95e7-00e6b71df0d1",
   "metadata": {},
   "outputs": [],
   "source": [
    "# bu bolumde herhnagi bir ndarrayin alt kümlerine nasıl erişeceğimizi işleyeceğiz:\n",
    "import numpy as np"
   ]
  },
  {
   "cell_type": "code",
   "execution_count": 4,
   "id": "fa3a2e9c-3630-4a45-99eb-6614f51d5ff2",
   "metadata": {},
   "outputs": [
    {
     "name": "stdout",
     "output_type": "stream",
     "text": [
      "[0 1 2 3 4 5 6 7 8 9]\n",
      "\n",
      "x[2:6]  \n",
      "[2 3 4 5]\n",
      "\n",
      "x[4:]  \n",
      "[4 5 6 7 8 9]\n",
      "\n",
      "x[:7]  \n",
      "[0 1 2 3 4 5 6]\n",
      "\n",
      "x[:-1]  \n",
      "[0 1 2 3 4 5 6 7 8]\n",
      "\n",
      "x[-4:-2]  \n",
      "[6 7]\n",
      "\n"
     ]
    }
   ],
   "source": [
    "# aşağıdaki örnekleri dikkatlice incelyelim:\n",
    "# ndarray[start:end), ndarray[start:], ndarray[:end)\n",
    "x=np.arange(10)\n",
    "print(x)\n",
    "print()\n",
    "print(\"x[2:6]  \")\n",
    "print(x[2:6])  # [2,6) kapalı aralıgındaki degerler\n",
    "print()\n",
    "print(\"x[4:]  \")\n",
    "print(x[4:])  # [4,10] kapalı aralıgındaki degerler\n",
    "print()\n",
    "print(\"x[:7]  \")\n",
    "print(x[:7])  # [0,7) kapalı aralıgındaki degerler\n",
    "print()\n",
    "print(\"x[:-1]  \")\n",
    "print(x[:-1]) # sondan (10,0] kapalı aralıgındaki degerler\n",
    "print()\n",
    "print(\"x[-4:-2]  \")\n",
    "print(x[-4:-2]) # sondan [-4,-2) kapalı aralıgındaki degerler\n",
    "print()\n"
   ]
  },
  {
   "cell_type": "code",
   "execution_count": null,
   "id": "5fd7d8b5-c366-40dd-b093-1e7a86649ad4",
   "metadata": {},
   "outputs": [],
   "source": []
  },
  {
   "cell_type": "code",
   "execution_count": null,
   "id": "b8ddcd89-888d-4ba6-b118-1e9b0479e2fc",
   "metadata": {},
   "outputs": [],
   "source": []
  },
  {
   "cell_type": "code",
   "execution_count": null,
   "id": "e116b989-11f4-407e-a958-f359a950d8fc",
   "metadata": {},
   "outputs": [],
   "source": []
  },
  {
   "cell_type": "code",
   "execution_count": null,
   "id": "dc034514-3ffe-4a62-8e89-bf18ec6303e6",
   "metadata": {},
   "outputs": [],
   "source": []
  },
  {
   "cell_type": "code",
   "execution_count": null,
   "id": "93ea09e3-a1e9-497f-a9b9-50cc94cb3339",
   "metadata": {},
   "outputs": [],
   "source": []
  }
 ],
 "metadata": {
  "kernelspec": {
   "display_name": "Python 3 (ipykernel)",
   "language": "python",
   "name": "python3"
  },
  "language_info": {
   "codemirror_mode": {
    "name": "ipython",
    "version": 3
   },
   "file_extension": ".py",
   "mimetype": "text/x-python",
   "name": "python",
   "nbconvert_exporter": "python",
   "pygments_lexer": "ipython3",
   "version": "3.11.0"
  }
 },
 "nbformat": 4,
 "nbformat_minor": 5
}
